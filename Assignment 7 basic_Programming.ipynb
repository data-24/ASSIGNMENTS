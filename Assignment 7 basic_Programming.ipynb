{
 "cells": [
  {
   "cell_type": "markdown",
   "metadata": {},
   "source": [
    "##Write a Python Program to find sum of array?"
   ]
  },
  {
   "cell_type": "code",
   "execution_count": 7,
   "metadata": {},
   "outputs": [
    {
     "name": "stdout",
     "output_type": "stream",
     "text": [
      "Enter the size of the array: 4\n",
      "1\n",
      "2\n",
      "3\n",
      "4\n",
      "Sum: 10\n"
     ]
    }
   ],
   "source": [
    "list = []\n",
    "size = int(input(\"Enter the size of the array: \"))\n",
    "for i in range(size):\n",
    "  list.append(int(input()))\n",
    "print(\"Sum:\", sum(list))"
   ]
  },
  {
   "cell_type": "markdown",
   "metadata": {},
   "source": [
    "##Write a Python Program to find largest element in an array?"
   ]
  },
  {
   "cell_type": "code",
   "execution_count": 13,
   "metadata": {},
   "outputs": [
    {
     "name": "stdout",
     "output_type": "stream",
     "text": [
      "enter the element of array   4\n",
      "5\n",
      "4\n",
      "8\n",
      "9\n",
      "maximum element from the inserted array is:   9\n"
     ]
    }
   ],
   "source": [
    "list=[]\n",
    "n=int(input(\"enter the element of array   \"))\n",
    "for i in  range(n):\n",
    "    list.append(int(input()))\n",
    "print(\"maximum element from the inserted array is:  \",max(list))\n"
   ]
  },
  {
   "cell_type": "markdown",
   "metadata": {},
   "source": [
    "##Write a Python Program for array rotation?"
   ]
  },
  {
   "cell_type": "code",
   "execution_count": 23,
   "metadata": {},
   "outputs": [
    {
     "name": "stdout",
     "output_type": "stream",
     "text": [
      "enter the no of rotation: 3\n",
      "4\n",
      "5\n",
      "7\n",
      "8\n",
      "9\n",
      "10\n",
      "11\n",
      "12\n",
      "13\n",
      "14\n",
      "15\n",
      "1\n",
      "2\n",
      "3\n"
     ]
    }
   ],
   "source": [
    "arr=[1,2,3,4,5,7,8,9,10,11,12,13,14,15]\n",
    "##ar1=[int((input(\"enter the element of the array for left rotation\")))\n",
    "#arr.append(n)4,5,6,7,8\n",
    "shift=int(input(\"enter the no of rotation: \"))\n",
    "for i in range(shift):\n",
    "    temp=arr[0]\n",
    "    for j in range(0,len(arr)-1):\n",
    "        arr[j]=arr[j+1]\n",
    "    arr[len(arr)-1]=temp\n",
    "for i in range(0,len(arr)):\n",
    "    print(arr[i])\n"
   ]
  },
  {
   "cell_type": "markdown",
   "metadata": {},
   "source": [
    "##Write a Python Program to Split the array and add the first part to the end?"
   ]
  },
  {
   "cell_type": "code",
   "execution_count": 35,
   "metadata": {},
   "outputs": [
    {
     "name": "stdout",
     "output_type": "stream",
     "text": [
      "37845678452"
     ]
    }
   ],
   "source": [
    "def split_arr(arr,n,k):\n",
    "    for i in range(0,k):\n",
    "        x=arr[0]\n",
    "        for j in range (0,n-1):\n",
    "            arr[j]=arr[j+1]\n",
    "        arr[n-1]=x\n",
    "arr=[4,5,2,3,7,8,4,5,6,7,8]\n",
    "n=len(arr)\n",
    "split_pos=3\n",
    "split_arr(arr,n,split_pos)\n",
    "\n",
    "for i in range(0,n):\n",
    "    print(arr[i],end='')\n",
    "\n",
    "            "
   ]
  },
  {
   "cell_type": "markdown",
   "metadata": {},
   "source": [
    "##Write a Python Program to check if given array is Monotonic?"
   ]
  },
  {
   "cell_type": "code",
   "execution_count": 47,
   "metadata": {},
   "outputs": [
    {
     "name": "stdout",
     "output_type": "stream",
     "text": [
      "False\n",
      "False\n"
     ]
    }
   ],
   "source": [
    "def mono(a):\n",
    "    decreasing=False\n",
    "    if(a[0])>arr[1]:\n",
    "        decreasing=true\n",
    "    for i in range(len(a)-1):\n",
    "        if (a[i]<a[i+1] and decreasing or arr[i]>arr[i+1] and not decreasing):\n",
    "            return False\n",
    "    return True\n",
    "print(mono([1,2,3,4,5,3,2,4]))\n",
    "print(mono([1,2,3,5,8,9,]))\n",
    "\n",
    "\n",
    "                      "
   ]
  },
  {
   "cell_type": "code",
   "execution_count": null,
   "metadata": {},
   "outputs": [],
   "source": []
  }
 ],
 "metadata": {
  "kernelspec": {
   "display_name": "Python 3",
   "language": "python",
   "name": "python3"
  },
  "language_info": {
   "codemirror_mode": {
    "name": "ipython",
    "version": 3
   },
   "file_extension": ".py",
   "mimetype": "text/x-python",
   "name": "python",
   "nbconvert_exporter": "python",
   "pygments_lexer": "ipython3",
   "version": "3.7.6"
  }
 },
 "nbformat": 4,
 "nbformat_minor": 4
}
