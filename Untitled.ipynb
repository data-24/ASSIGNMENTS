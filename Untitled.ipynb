{
 "cells": [
  {
   "cell_type": "code",
   "execution_count": null,
   "metadata": {},
   "outputs": [],
   "source": [
    "##What are the differences between operators and values in the following?\n",
    "*\n",
    "'hello'\n",
    "-87.8\n",
    "-\n",
    "/\n",
    "+\n",
    "6   ##\n",
    "##OPERATORS ARE EXCECUTED ON THE VALUES TO PERFORM SOME ACTION  EXAMPLE 6 + -87.8=-81.8,HERE OPERATORS ARE + ,- ,/,* AND \n",
    "## VALUES 'HELLO' AND -87.8.\n"
   ]
  },
  {
   "cell_type": "code",
   "execution_count": 4,
   "metadata": {},
   "outputs": [
    {
     "name": "stdout",
     "output_type": "stream",
     "text": [
      "spam\n"
     ]
    }
   ],
   "source": [
    "##2. What is the difference between string and variable?\n",
    "##spam\n",
    "##'spam'\n",
    "## SPAM IS THE VARIABLE TO STORE THE STRING 'SPAM'\n",
    "SPAM='SPAM'\n",
    "print('spam')"
   ]
  },
  {
   "cell_type": "code",
   "execution_count": null,
   "metadata": {},
   "outputs": [],
   "source": [
    "\n",
    "##3. Describe three different data forms.\n",
    "## numeric eg 123\n",
    "## string \"abc\"\n",
    "## boolean True False\n",
    "\n"
   ]
  },
  {
   "cell_type": "code",
   "execution_count": null,
   "metadata": {},
   "outputs": [],
   "source": [
    " ##What makes up an expression? What are the functions of all expressions?\n",
    "    ##Expression is a combination of variables  and numbers to evaluate \n",
    "## +,-,*,/,% ARTHMATIC\n",
    "##AND ,OR ,NOT LOGICAL\n",
    "##A>B,\n",
    "\n",
    "    \n",
    "    "
   ]
  }
 ],
 "metadata": {
  "kernelspec": {
   "display_name": "Python 3",
   "language": "python",
   "name": "python3"
  },
  "language_info": {
   "codemirror_mode": {
    "name": "ipython",
    "version": 3
   },
   "file_extension": ".py",
   "mimetype": "text/x-python",
   "name": "python",
   "nbconvert_exporter": "python",
   "pygments_lexer": "ipython3",
   "version": "3.7.6"
  }
 },
 "nbformat": 4,
 "nbformat_minor": 4
}
