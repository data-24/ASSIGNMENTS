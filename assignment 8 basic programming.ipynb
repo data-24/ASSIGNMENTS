{
 "cells": [
  {
   "cell_type": "markdown",
   "metadata": {},
   "source": [
    "##Write a Python Program to Add Two Matrices?"
   ]
  },
  {
   "cell_type": "code",
   "execution_count": 25,
   "metadata": {},
   "outputs": [
    {
     "name": "stdout",
     "output_type": "stream",
     "text": [
      "[[12 14]\n",
      " [16 18]\n",
      " [20 22]\n",
      " [24 26]\n",
      " [28 30]]\n"
     ]
    }
   ],
   "source": [
    "import numpy as np\n",
    "list1=[1,2,3,4,5,6,7,8,9,10]\n",
    "list2=[11,12,13,14,15,16,17,18,19,20]\n",
    "matrix1=np.array(list1)\n",
    "matrix2=np.array(list2)\n",
    "a=matrix1.reshape(5,2)\n",
    "b=matrix2.reshape(5,2)\n",
    "print(a+b)"
   ]
  },
  {
   "cell_type": "markdown",
   "metadata": {},
   "source": [
    "##Write a Python Program to Multiply Two Matrices?"
   ]
  },
  {
   "cell_type": "code",
   "execution_count": 3,
   "metadata": {},
   "outputs": [
    {
     "name": "stdout",
     "output_type": "stream",
     "text": [
      "enter  10 for the first matrix  10 elements10\n",
      "4\n",
      "5\n",
      "6\n",
      "7\n",
      "8\n",
      "4\n",
      "8\n",
      "7\n",
      "8\n",
      "7\n",
      "enter  10 for the second matrix  10 elements10\n",
      "4\n",
      "5\n",
      "6\n",
      "8\n",
      "9\n",
      "7\n",
      "4\n",
      "5\n",
      "4\n",
      "5\n",
      "[[16 25]\n",
      " [36 56]\n",
      " [72 28]\n",
      " [32 35]\n",
      " [32 35]]\n"
     ]
    }
   ],
   "source": [
    "import numpy as np\n",
    "m1=[]\n",
    "n=int(input(\"enter  10 for the first matrix  10 elements\"))\n",
    "for i in range(0,n):\n",
    "    p=int(input())\n",
    "    m1.append(p)\n",
    "m2=[]\n",
    "m=int(input(\"enter  10 for the second matrix  10 elements\"))\n",
    "for i in range(0,m):\n",
    "    q=int(input())\n",
    "    m2.append(q)\n",
    "    \n",
    "\n",
    "matrix1=np.array(m1)\n",
    "matrix2=np.array(m2)\n",
    "a=matrix1.reshape(5,2)\n",
    "b=matrix2.reshape(5,2)\n",
    "print(a*b)"
   ]
  },
  {
   "cell_type": "markdown",
   "metadata": {},
   "source": [
    "##Write a Python Program to Transpose a Matrix?\n"
   ]
  },
  {
   "cell_type": "code",
   "execution_count": null,
   "metadata": {},
   "outputs": [],
   "source": [
    "\n",
    "\n",
    "\n"
   ]
  },
  {
   "cell_type": "code",
   "execution_count": null,
   "metadata": {},
   "outputs": [],
   "source": []
  },
  {
   "cell_type": "code",
   "execution_count": null,
   "metadata": {},
   "outputs": [],
   "source": []
  },
  {
   "cell_type": "code",
   "execution_count": null,
   "metadata": {},
   "outputs": [],
   "source": []
  }
 ],
 "metadata": {
  "kernelspec": {
   "display_name": "Python 3",
   "language": "python",
   "name": "python3"
  }
 },
 "nbformat": 4,
 "nbformat_minor": 4
}
