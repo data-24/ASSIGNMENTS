{
 "cells": [
  {
   "cell_type": "markdown",
   "metadata": {},
   "source": [
    "### Write a Python program to find sum of elements in list?"
   ]
  },
  {
   "cell_type": "code",
   "execution_count": 16,
   "metadata": {},
   "outputs": [
    {
     "name": "stdout",
     "output_type": "stream",
     "text": [
      "enter the size of a list  4\n",
      "enter the num 1\n",
      "enter the num 2\n",
      "enter the num 1\n",
      "enter the num 2\n",
      "6\n"
     ]
    }
   ],
   "source": [
    "l=[]\n",
    "num=int(input(\"enter the size of a list  \"))\n",
    "\n",
    "for i in range(num):\n",
    "    x=int(input(\"enter the num \"))\n",
    "    l.append(x)\n",
    "sum1=0\n",
    "for i in range(num):\n",
    "    sum1=sum1+l[i]\n",
    "print(sum1)\n",
    "\n",
    "    \n"
   ]
  },
  {
   "cell_type": "markdown",
   "metadata": {},
   "source": [
    "### Write a Python program to Multiply all numbers in the list?"
   ]
  },
  {
   "cell_type": "code",
   "execution_count": 18,
   "metadata": {},
   "outputs": [
    {
     "name": "stdout",
     "output_type": "stream",
     "text": [
      "enter the size of a list  4\n",
      "enter the num 2\n",
      "enter the num 5\n",
      "enter the num 2\n",
      "enter the num 2\n",
      "40\n"
     ]
    }
   ],
   "source": [
    "l=[]\n",
    "num=int(input(\"enter the size of a list  \"))\n",
    "\n",
    "for i in range(num):\n",
    "    x=int(input(\"enter the num \"))\n",
    "    l.append(x)\n",
    "sum1=1\n",
    "for i in range(num):\n",
    "    sum1=sum1*l[i]\n",
    "print(sum1)"
   ]
  },
  {
   "cell_type": "markdown",
   "metadata": {},
   "source": [
    "### Write a Python program to find smallest number in a list?"
   ]
  },
  {
   "cell_type": "code",
   "execution_count": 5,
   "metadata": {},
   "outputs": [
    {
     "name": "stdout",
     "output_type": "stream",
     "text": [
      "enter the size of a list  5\n",
      "enter the num 5\n",
      "enter the num 6\n",
      "enter the num 78\n",
      "enter the num 12\n",
      "enter the num 4\n",
      "4 smallest number in the list\n"
     ]
    }
   ],
   "source": [
    "l=[]\n",
    "num=int(input(\"enter the size of a list  \"))\n",
    "\n",
    "for i in range(num):\n",
    "    x=int(input(\"enter the num \"))\n",
    "    l.append(x)\n",
    "min1=l[0]\n",
    "for i in range(len(l)):\n",
    "    if l[i]<min1:\n",
    "        min1=l[i]\n",
    "print(min1,\"smallest number in the list\")\n"
   ]
  },
  {
   "cell_type": "markdown",
   "metadata": {},
   "source": [
    "### Write a Python program to find largest number in a list?"
   ]
  },
  {
   "cell_type": "code",
   "execution_count": 6,
   "metadata": {},
   "outputs": [
    {
     "name": "stdout",
     "output_type": "stream",
     "text": [
      "enter the size of a list  5\n",
      "enter the num 45\n",
      "enter the num 12\n",
      "enter the num 89\n",
      "enter the num 99\n",
      "enter the num 101\n",
      "101 is largest number in the list\n"
     ]
    }
   ],
   "source": [
    "l=[]\n",
    "num=int(input(\"enter the size of a list  \"))\n",
    "\n",
    "for i in range(num):\n",
    "    x=int(input(\"enter the num \"))\n",
    "    l.append(x)\n",
    "max1=l[0]\n",
    "for i in range(len(l)):\n",
    "    if l[i]>max1:\n",
    "        max1=l[i]\n",
    "print(max1 ,\"is largest number in the list\")\n"
   ]
  },
  {
   "cell_type": "markdown",
   "metadata": {},
   "source": [
    "### Write a Python program to find second largest number in a list?"
   ]
  },
  {
   "cell_type": "code",
   "execution_count": 3,
   "metadata": {},
   "outputs": [
    {
     "name": "stdout",
     "output_type": "stream",
     "text": [
      "enter the size of the list5\n",
      "enter the num89\n",
      "enter the num99\n",
      "enter the num63\n",
      "enter the num65\n",
      "enter the num4\n",
      "99  is the largest number in the list\n",
      "89 is second largest number in the list\n"
     ]
    }
   ],
   "source": [
    "l=[]\n",
    "num=int(input(\"enter the size of the list\"))\n",
    "\n",
    "for i in range(num):\n",
    "    x=int(input(\"enter the num\"))\n",
    "    l.append(x)\n",
    "for i in range(len(l)):\n",
    "    max1=max(l)\n",
    "    max2=l[0]\n",
    "         \n",
    "    if l[i]>max2 and l[i]<=max1:\n",
    "        \n",
    "        max2=l[i]\n",
    "print(max1,\" is the largest number in the list\")\n",
    "print(max2,\"is second largest number in the list\")\n",
    "\n"
   ]
  },
  {
   "cell_type": "markdown",
   "metadata": {},
   "source": [
    "### Write a Python program to print even numbers in a list?"
   ]
  },
  {
   "cell_type": "code",
   "execution_count": 10,
   "metadata": {},
   "outputs": [
    {
     "name": "stdout",
     "output_type": "stream",
     "text": [
      "enter the size of the list   9\n",
      "enter the num  66\n",
      "enter the num  4\n",
      "enter the num  6\n",
      "enter the num  2\n",
      "enter the num  99\n",
      "enter the num  5\n",
      "enter the num  1\n",
      "enter the num  3\n",
      "enter the num  7\n",
      "the even list is   [66, 4, 6, 2]\n"
     ]
    }
   ],
   "source": [
    "l=[]\n",
    "num=int(input(\"enter the size of the list   \"))\n",
    "for i in range(num):\n",
    "    x=int(input(\"enter the num  \"))\n",
    "    l.append(x)\n",
    "even_sum=[]\n",
    "\n",
    "for i in range(len(l)):\n",
    "    if l[i] %2==0:\n",
    "        even_sum.append(l[i])\n",
    "\n",
    "print(\"the even list is  \", even_sum)\n"
   ]
  },
  {
   "cell_type": "markdown",
   "metadata": {},
   "source": [
    "### Write a Python program to print odd numbers in a List?"
   ]
  },
  {
   "cell_type": "code",
   "execution_count": 9,
   "metadata": {},
   "outputs": [
    {
     "name": "stdout",
     "output_type": "stream",
     "text": [
      "enter the size of the list   6\n",
      "enter the num  89\n",
      "enter the num  56\n",
      "enter the num  66\n",
      "enter the num  2\n",
      "enter the num  4\n",
      "enter the num  9\n",
      "the odd list is [89, 9]\n"
     ]
    }
   ],
   "source": [
    "l=[]\n",
    "num=int(input(\"enter the size of the list   \"))\n",
    "for i in range(num):\n",
    "    x=int(input(\"enter the num  \"))\n",
    "    l.append(x)\n",
    "odd_sum=[]\n",
    "for i in range(len(l)):\n",
    "    if l[i] %2!=0:\n",
    "        odd_sum.append(l[i])\n",
    "print(\"the odd list is\", odd_sum)"
   ]
  },
  {
   "cell_type": "markdown",
   "metadata": {},
   "source": [
    "### Write a Python program to Remove empty List from List?"
   ]
  },
  {
   "cell_type": "code",
   "execution_count": 41,
   "metadata": {},
   "outputs": [],
   "source": [
    "def test(*args):\n",
    "    l=[]\n",
    "    for i in args:\n",
    "        if type(i)==list and i!=[] :\n",
    "            l.append(i)\n",
    "    print(l)\n",
    "        "
   ]
  },
  {
   "cell_type": "code",
   "execution_count": 43,
   "metadata": {},
   "outputs": [
    {
     "name": "stdout",
     "output_type": "stream",
     "text": [
      "[[56, 7, 8, 8, 9, 9], [5, 6, 7, 8, 9], [78, 9, 8, 5]]\n"
     ]
    }
   ],
   "source": [
    "test([56,7,8,8,9,9],89,[5,6,7,8,9],[],[78,9,8,5],[])"
   ]
  },
  {
   "cell_type": "markdown",
   "metadata": {},
   "source": [
    "### Write a Python program to Cloning or Copying a list?"
   ]
  },
  {
   "cell_type": "code",
   "execution_count": 3,
   "metadata": {},
   "outputs": [
    {
     "name": "stdout",
     "output_type": "stream",
     "text": [
      "enter the size of the list   5\n",
      "enter the num  56\n",
      "enter the num  23\n",
      "enter the num  5\n",
      "enter the num  4\n",
      "enter the num  5\n",
      "original data is [56, 23, 5, 4, 5]\n",
      "copuied data is [56, 23, 5, 4, 5]\n"
     ]
    }
   ],
   "source": [
    "l=[]\n",
    "num=int(input(\"enter the size of the list   \"))\n",
    "for i in range(num):\n",
    "    x=int(input(\"enter the num  \"))\n",
    "    l.append(x)\n",
    "copy_data=l\n",
    "print(\"original data is\" ,l)\n",
    "\n",
    "print(\"copuied data is\",copy_data)"
   ]
  },
  {
   "cell_type": "markdown",
   "metadata": {},
   "source": [
    "### Write a Python program to Count occurrences of an element in a list?"
   ]
  },
  {
   "cell_type": "code",
   "execution_count": 1,
   "metadata": {},
   "outputs": [],
   "source": [
    "def tes2(l,v):\n",
    "    c=0\n",
    "    for i in l:\n",
    "        if (i==v):\n",
    "            c=c+1\n",
    "    return c"
   ]
  },
  {
   "cell_type": "code",
   "execution_count": 3,
   "metadata": {},
   "outputs": [
    {
     "data": {
      "text/plain": [
       "4"
      ]
     },
     "execution_count": 3,
     "metadata": {},
     "output_type": "execute_result"
    }
   ],
   "source": [
    "tes2([2,3,4,5,6,7,8,8,8,7,7,6,5,5,4,4,343,3,3,2,2,2,22],2)"
   ]
  },
  {
   "cell_type": "code",
   "execution_count": 35,
   "metadata": {},
   "outputs": [],
   "source": [
    "    \n",
    "            "
   ]
  },
  {
   "cell_type": "code",
   "execution_count": null,
   "metadata": {},
   "outputs": [],
   "source": []
  },
  {
   "cell_type": "code",
   "execution_count": null,
   "metadata": {},
   "outputs": [],
   "source": []
  },
  {
   "cell_type": "code",
   "execution_count": null,
   "metadata": {},
   "outputs": [],
   "source": []
  },
  {
   "cell_type": "code",
   "execution_count": null,
   "metadata": {},
   "outputs": [],
   "source": []
  }
 ],
 "metadata": {
  "kernelspec": {
   "display_name": "Python 3",
   "language": "python",
   "name": "python3"
  },
  "language_info": {
   "codemirror_mode": {
    "name": "ipython",
    "version": 3
   },
   "file_extension": ".py",
   "mimetype": "text/x-python",
   "name": "python",
   "nbconvert_exporter": "python",
   "pygments_lexer": "ipython3",
   "version": "3.7.6"
  }
 },
 "nbformat": 4,
 "nbformat_minor": 4
}
