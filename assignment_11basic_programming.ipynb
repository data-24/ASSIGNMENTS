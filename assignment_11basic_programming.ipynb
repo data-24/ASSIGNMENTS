{
 "cells": [
  {
   "cell_type": "markdown",
   "metadata": {},
   "source": [
    "### Write a Python program to find words which are greater than given length k?"
   ]
  },
  {
   "cell_type": "code",
   "execution_count": 79,
   "metadata": {},
   "outputs": [],
   "source": [
    "w=[]\n",
    "def string_check(*args,k=9):\n",
    "    for i in args:\n",
    "        if type(i)==str and len(i)>k:\n",
    "            w.append(i)         \n",
    "        \n",
    "    return w\n",
    "            "
   ]
  },
  {
   "cell_type": "code",
   "execution_count": 80,
   "metadata": {},
   "outputs": [
    {
     "data": {
      "text/plain": [
       "['this is data science course by ineuron']"
      ]
     },
     "execution_count": 80,
     "metadata": {},
     "output_type": "execute_result"
    }
   ],
   "source": [
    "string_check(\"this is data science course by ineuron\",667888,[6898958698659])"
   ]
  },
  {
   "cell_type": "markdown",
   "metadata": {},
   "source": [
    "### Write a Python program for removing i-th character from a string?"
   ]
  },
  {
   "cell_type": "code",
   "execution_count": 11,
   "metadata": {},
   "outputs": [],
   "source": [
    "\n",
    "def test(w):\n",
    "    for i in w:\n",
    "        if i=='i':\n",
    "            continue\n",
    "        print(i)\n",
    "            \n",
    "            \n",
    "        \n",
    "            \n",
    "    \n",
    "    "
   ]
  },
  {
   "cell_type": "code",
   "execution_count": 12,
   "metadata": {},
   "outputs": [
    {
     "name": "stdout",
     "output_type": "stream",
     "text": [
      "n\n",
      "e\n",
      "u\n",
      "r\n",
      "o\n",
      "n\n"
     ]
    }
   ],
   "source": [
    "test(\"ineurion\")"
   ]
  },
  {
   "cell_type": "markdown",
   "metadata": {},
   "source": [
    "### Write a Python program to split and join a string?"
   ]
  },
  {
   "cell_type": "code",
   "execution_count": 5,
   "metadata": {},
   "outputs": [
    {
     "name": "stdout",
     "output_type": "stream",
     "text": [
      "enter the stringthis is ineuron and we are studying data science\n",
      "['this', 'is', 'ineuron', 'and', 'we', 'are', 'studying', 'data', 'science'] this-is-ineuron-and-we-are-studying-data-science\n"
     ]
    }
   ],
   "source": [
    "    \n",
    "import logging as lg\n",
    "lg.basicConfig(filename='splitjoin.log',level=lg.INFO)\n",
    "s=input(\"enter the string   \")\n",
    "temp=s.split(' ')\n",
    "j='-'.join(temp)\n",
    "print(temp,j)\n",
    "\n",
    "    "
   ]
  },
  {
   "cell_type": "markdown",
   "metadata": {},
   "source": [
    "### Write a Python to check if a given string is binary string or not?"
   ]
  },
  {
   "cell_type": "code",
   "execution_count": 4,
   "metadata": {},
   "outputs": [],
   "source": [
    "\n",
    "t={'0' ,'1'}\n",
    "def strbin(s):\n",
    "      for i in s:\n",
    "            if i not in t:\n",
    "                 print(\"string not binary\",i)\n",
    "            else:\n",
    "                 print(\"string is binary\",i)\n",
    "        \n"
   ]
  },
  {
   "cell_type": "code",
   "execution_count": 6,
   "metadata": {},
   "outputs": [
    {
     "name": "stdout",
     "output_type": "stream",
     "text": [
      "string not binary k\n",
      "string not binary j\n",
      "string not binary c\n",
      "string not binary k\n",
      "string not binary d\n",
      "string not binary j\n",
      "string not binary k\n",
      "string not binary f\n",
      "string is binary 0\n",
      "string is binary 1\n",
      "string is binary 0\n",
      "string is binary 1\n",
      "string is binary 0\n"
     ]
    }
   ],
   "source": [
    "strbin(\"kjckdjkf01010\")"
   ]
  },
  {
   "cell_type": "markdown",
   "metadata": {},
   "source": [
    "###  Write a Python program to find uncommon words from two Strings?"
   ]
  },
  {
   "cell_type": "code",
   "execution_count": 2,
   "metadata": {},
   "outputs": [
    {
     "name": "stdout",
     "output_type": "stream",
     "text": [
      "enter the string 1  datascience course by ineuron\n",
      "enter the string 2   ineuron courses includes datascience\n",
      "this is uncommon word from both the string ['course', 'by', 'courses', 'includes']\n"
     ]
    }
   ],
   "source": [
    "s1=input(\"enter the string 1  \")\n",
    "s2=input(\"enter the string 2   \")\n",
    "o=[]\n",
    "x=s1.split()\n",
    "y=s2.split()\n",
    "\n",
    "for i in x:\n",
    "    if i not in y:\n",
    "        o.append(i)\n",
    "for i in y:\n",
    "    if i not in x:\n",
    "        o.append(i)\n",
    "print(\"this is uncommon word from both the string\",o)\n"
   ]
  },
  {
   "cell_type": "markdown",
   "metadata": {},
   "source": [
    "### Write a Python to find all duplicate characters in string?"
   ]
  },
  {
   "cell_type": "code",
   "execution_count": 15,
   "metadata": {},
   "outputs": [
    {
     "name": "stdout",
     "output_type": "stream",
     "text": [
      "enter the string 1  data science by ineuron\n",
      "enter the string 2   different courses by ineuron \n",
      "the duplicate charactyer are ['by']\n",
      "the duplicate charactyer are ['by', 'ineuron']\n"
     ]
    }
   ],
   "source": [
    "s1=input(\"enter the string 1  \")\n",
    "s2=input(\"enter the string 2   \")\n",
    "o=[]\n",
    "x=s1.split()\n",
    "y=s2.split()\n",
    "for i in x:\n",
    "    if i in y:\n",
    "        o.append(i)\n",
    "        print(\"the duplicate charactyer are\" ,o)"
   ]
  },
  {
   "cell_type": "markdown",
   "metadata": {},
   "source": [
    "### Write a Python Program to check if a string contains any special character?"
   ]
  },
  {
   "cell_type": "code",
   "execution_count": 17,
   "metadata": {},
   "outputs": [
    {
     "name": "stdout",
     "output_type": "stream",
     "text": [
      "enter the stringdata science by @ ineuron\n",
      "data science by @ ineuron\n",
      "this string contains special charactyer @\n"
     ]
    }
   ],
   "source": [
    "l=['@','#','!','$','^','&','9','(','+']\n",
    "s=input(\"enter the string\")\n",
    "print(s)\n",
    "x=s.split(' ')\n",
    "for i in x:\n",
    "    if  i  in l:\n",
    "        print(\"this string contains special charactyer\",i)"
   ]
  },
  {
   "cell_type": "code",
   "execution_count": null,
   "metadata": {},
   "outputs": [],
   "source": []
  },
  {
   "cell_type": "code",
   "execution_count": null,
   "metadata": {},
   "outputs": [],
   "source": []
  }
 ],
 "metadata": {
  "kernelspec": {
   "display_name": "Python 3",
   "language": "python",
   "name": "python3"
  },
  "language_info": {
   "codemirror_mode": {
    "name": "ipython",
    "version": 3
   },
   "file_extension": ".py",
   "mimetype": "text/x-python",
   "name": "python",
   "nbconvert_exporter": "python",
   "pygments_lexer": "ipython3",
   "version": "3.7.6"
  }
 },
 "nbformat": 4,
 "nbformat_minor": 4
}
