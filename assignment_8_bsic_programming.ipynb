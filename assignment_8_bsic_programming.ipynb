{
 "cells": [
  {
   "cell_type": "markdown",
   "metadata": {},
   "source": [
    "### Write a Python program to check if the given number is a Disarium Number?"
   ]
  },
  {
   "cell_type": "code",
   "execution_count": 1,
   "metadata": {},
   "outputs": [
    {
     "name": "stdout",
     "output_type": "stream",
     "text": [
      "enter the number  89\n",
      "num is disarium\n"
     ]
    }
   ],
   "source": [
    "\n",
    "n=int(input('enter the number  '))\n",
    "sum=0\n",
    "j=1\n",
    "temp=n\n",
    "while(temp!=0):\n",
    "    r=temp%10\n",
    "    sum=sum*10+r\n",
    "    temp=int(temp/10)\n",
    "    \n",
    "temp=sum\n",
    "sum=0\n",
    "while(temp!=0):\n",
    "    r=temp%10\n",
    "    sum=sum+pow(r,j)\n",
    "    temp=int(temp/10)\n",
    "    j=j+1\n",
    "if sum==n:\n",
    "    print(\"num is disarium\")\n",
    "else:\n",
    "    print(\"num is not diarium\")"
   ]
  },
  {
   "cell_type": "markdown",
   "metadata": {},
   "source": [
    "### Write a Python program to print all disarium numbers between 1 to 100?"
   ]
  },
  {
   "cell_type": "code",
   "execution_count": 18,
   "metadata": {},
   "outputs": [
    {
     "name": "stdout",
     "output_type": "stream",
     "text": [
      "The disarium numbers between 1 and 100 are : \n",
      "1\n",
      "2\n",
      "3\n",
      "4\n",
      "5\n",
      "6\n",
      "7\n",
      "8\n",
      "9\n",
      "89\n"
     ]
    }
   ],
   "source": [
    "\n",
    "def length_calculation(my_val):\n",
    "   len_val = 0\n",
    "   while(my_val != 0):\n",
    "      len_val = len_val + 1\n",
    "      my_val = my_val//10\n",
    "   return len_val\n",
    "def digit_sum(my_num):\n",
    "   remaining = sum_val = 0\n",
    "   len_fun = length_calculation(my_num)\n",
    "   while(my_num > 0):\n",
    "      remaining = my_num%10\n",
    "      sum_val = sum_val + (remaining**len_fun)\n",
    "      my_num = my_num//10\n",
    "      len_fun = len_fun - 1\n",
    "   return sum_val\n",
    "ini_result = 0\n",
    "print(\"The disarium numbers between 1 and 100 are : \")\n",
    "for i in range(1, 101):\n",
    "   ini_result = digit_sum(i)\n",
    "   if(ini_result == i):\n",
    "      print(i)"
   ]
  },
  {
   "cell_type": "markdown",
   "metadata": {},
   "source": [
    "### Write a Python program to check if the given number is Happy Number?"
   ]
  },
  {
   "cell_type": "code",
   "execution_count": 14,
   "metadata": {},
   "outputs": [
    {
     "name": "stdout",
     "output_type": "stream",
     "text": [
      "enter tne num89\n",
      "89 unhappy num\n"
     ]
    }
   ],
   "source": [
    "num=int(input(\"enter tne num\"))\n",
    "temp=num\n",
    "\n",
    "while sum!=1 and sum!=4:\n",
    "    sum=0\n",
    "    while temp!=0:\n",
    "        rem=int(temp%10)\n",
    "        sum=sum+rem*rem\n",
    "        temp=temp/10\n",
    "    temp=sum\n",
    "if (sum==1):\n",
    "    print(num ,\" is happy num\")\n",
    "else:\n",
    "    print(num,\"unhappy num\")"
   ]
  },
  {
   "cell_type": "markdown",
   "metadata": {},
   "source": [
    "### Write a Python program to determine whether the given number is a Harshad Number?"
   ]
  },
  {
   "cell_type": "code",
   "execution_count": 17,
   "metadata": {},
   "outputs": [
    {
     "name": "stdout",
     "output_type": "stream",
     "text": [
      "enter any number  81\n",
      "81 is harshad number\n"
     ]
    }
   ],
   "source": [
    "num=int(input(\"enter any number  \"))\n",
    "temp=num\n",
    "sum=0\n",
    "while temp!=0:\n",
    "    rem=temp%10\n",
    "    sum=sum+rem\n",
    "    temp=int(temp/10)\n",
    "if num%sum==0:\n",
    "    print(num,\"is harshad number\")\n",
    "else:\n",
    "    print(num,\"not a harshad num\")\n",
    "    "
   ]
  },
  {
   "cell_type": "markdown",
   "metadata": {},
   "source": [
    "### Write a Python program to print all pronic numbers between 1 and 100?"
   ]
  },
  {
   "cell_type": "code",
   "execution_count": 28,
   "metadata": {},
   "outputs": [
    {
     "name": "stdout",
     "output_type": "stream",
     "text": [
      "enter any numberr   45\n",
      "num is  pronic\n"
     ]
    }
   ],
   "source": [
    "num=int(input(\"enter any numberr   \"))\n",
    "f=0\n",
    "for i in range(1,num):\n",
    "    if num==i*(i+1):\n",
    "        f=1\n",
    "        break\n",
    "if f==1:\n",
    "    print(\"num is not pronic num\")\n",
    "else:\n",
    "    print(\"num is  pronic\")"
   ]
  },
  {
   "cell_type": "code",
   "execution_count": null,
   "metadata": {},
   "outputs": [],
   "source": []
  },
  {
   "cell_type": "code",
   "execution_count": null,
   "metadata": {},
   "outputs": [],
   "source": [
    "\n"
   ]
  },
  {
   "cell_type": "code",
   "execution_count": null,
   "metadata": {},
   "outputs": [],
   "source": []
  }
 ],
 "metadata": {
  "kernelspec": {
   "display_name": "Python 3",
   "language": "python",
   "name": "python3"
  },
  "language_info": {
   "codemirror_mode": {
    "name": "ipython",
    "version": 3
   },
   "file_extension": ".py",
   "mimetype": "text/x-python",
   "name": "python",
   "nbconvert_exporter": "python",
   "pygments_lexer": "ipython3",
   "version": "3.7.6"
  }
 },
 "nbformat": 4,
 "nbformat_minor": 4
}
