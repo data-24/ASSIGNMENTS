{
 "cells": [
  {
   "cell_type": "markdown",
   "metadata": {},
   "source": [
    "### Write a Python Program to Add Two Matrices?"
   ]
  },
  {
   "cell_type": "code",
   "execution_count": 1,
   "metadata": {},
   "outputs": [
    {
     "name": "stdout",
     "output_type": "stream",
     "text": [
      "[[12 14]\n",
      " [16 18]\n",
      " [20 22]\n",
      " [24 26]\n",
      " [28 30]]\n"
     ]
    }
   ],
   "source": [
    "import numpy as np\n",
    "list1=[1,2,3,4,5,6,7,8,9,10]\n",
    "list2=[11,12,13,14,15,16,17,18,19,20]\n",
    "matrix1=np.array(list1)\n",
    "matrix2=np.array(list2)\n",
    "a=matrix1.reshape(5,2)\n",
    "b=matrix2.reshape(5,2)\n",
    "print(a+b)"
   ]
  },
  {
   "cell_type": "markdown",
   "metadata": {},
   "source": [
    "### Write a Python Program to Multiply Two Matrices?"
   ]
  },
  {
   "cell_type": "code",
   "execution_count": 3,
   "metadata": {},
   "outputs": [
    {
     "name": "stdout",
     "output_type": "stream",
     "text": [
      "enter  10 for the first matrix  10 elements10\n",
      "5\n",
      "7\n",
      "8\n",
      "9\n",
      "4\n",
      "5\n",
      "6\n",
      "5\n",
      "4\n",
      "5\n",
      "enter  10 for the second matrix  10 elements10\n",
      "1\n",
      "2\n",
      "3\n",
      "4\n",
      "5\n",
      "6\n",
      "7\n",
      "8\n",
      "9\n",
      "4\n",
      "[[ 5 14]\n",
      " [24 36]\n",
      " [20 30]\n",
      " [42 40]\n",
      " [36 20]]\n"
     ]
    }
   ],
   "source": [
    "\n",
    "import numpy as np\n",
    "m1=[]\n",
    "n=int(input(\"enter  10 for the first matrix  10 elements\"))\n",
    "for i in range(0,n):\n",
    "    p=int(input())\n",
    "    m1.append(p)\n",
    "m2=[]\n",
    "m=int(input(\"enter  10 for the second matrix  10 elements\"))\n",
    "for i in range(0,m):\n",
    "    q=int(input())\n",
    "    m2.append(q)\n",
    "    \n",
    "\n",
    "matrix1=np.array(m1)\n",
    "matrix2=np.array(m2)\n",
    "a=matrix1.reshape(5,2)\n",
    "b=matrix2.reshape(5,2)\n",
    "print(a*b)"
   ]
  },
  {
   "cell_type": "markdown",
   "metadata": {},
   "source": [
    "### Write a Python Program to Transpose a Matrix?"
   ]
  },
  {
   "cell_type": "code",
   "execution_count": 19,
   "metadata": {},
   "outputs": [
    {
     "name": "stdout",
     "output_type": "stream",
     "text": [
      "[[1 2 3]\n",
      " [4 5 6]\n",
      " [7 8 9]]\n"
     ]
    },
    {
     "data": {
      "text/plain": [
       "array([[1, 4, 7],\n",
       "       [2, 5, 8],\n",
       "       [3, 6, 9]])"
      ]
     },
     "execution_count": 19,
     "metadata": {},
     "output_type": "execute_result"
    }
   ],
   "source": [
    "# creating a martrix\n",
    "import numpy as np\n",
    "a=np.array([ [1,2,3],[4,5,6],[7,8,9] ])\n",
    "print(a)\n",
    "a.transpose()\n"
   ]
  },
  {
   "cell_type": "code",
   "execution_count": 14,
   "metadata": {},
   "outputs": [
    {
     "name": "stdout",
     "output_type": "stream",
     "text": [
      "Requirement already satisfied: numpy in c:\\users\\win7\\anaconda3\\lib\\site-packages (1.18.1)\n",
      "[1 2 3 4 5 6 7 8 9]\n"
     ]
    }
   ],
   "source": [
    "# generate a matrix\n",
    "!pip install numpy\n",
    "import numpy as np\n",
    "b=np.arange(1,10)\n",
    "b.reshape(3,3)\n",
    "print(b)"
   ]
  },
  {
   "cell_type": "code",
   "execution_count": 16,
   "metadata": {},
   "outputs": [
    {
     "data": {
      "text/plain": [
       "array([[1, 2, 3],\n",
       "       [4, 5, 6],\n",
       "       [7, 8, 9]])"
      ]
     },
     "execution_count": 16,
     "metadata": {},
     "output_type": "execute_result"
    }
   ],
   "source": [
    "b.reshape(3,3)"
   ]
  },
  {
   "cell_type": "markdown",
   "metadata": {},
   "source": [
    "### Write a Python Program to Sort Words in Alphabetic Order?"
   ]
  },
  {
   "cell_type": "code",
   "execution_count": 38,
   "metadata": {},
   "outputs": [
    {
     "name": "stdout",
     "output_type": "stream",
     "text": [
      "enter the word   this is ineuron with data science Course\n",
      "['this', 'is', 'ineuron', 'with', 'data', 'science', 'Course']\n",
      "Course\n",
      "data\n",
      "ineuron\n",
      "is\n",
      "science\n",
      "this\n",
      "with\n"
     ]
    }
   ],
   "source": [
    "word=input(\"enter the word   \")\n",
    "l=list(word.split())\n",
    "print(l)\n",
    "l.sort()\n",
    "for i in l:\n",
    "  print(i)"
   ]
  },
  {
   "cell_type": "markdown",
   "metadata": {},
   "source": [
    "### Write a Python Program to Remove Punctuation From a String?"
   ]
  },
  {
   "cell_type": "code",
   "execution_count": 45,
   "metadata": {},
   "outputs": [
    {
     "name": "stdout",
     "output_type": "stream",
     "text": [
      "enter the string   $%ineuron*&\n",
      "ineuron\n"
     ]
    }
   ],
   "source": [
    "punc='.!@#$%{}^&*():[]<>>?;\\/\"\"'\n",
    "p=\"\"\n",
    "s=input(\"enter the string   \")\n",
    "for i in s:\n",
    "    if i not in punc:\n",
    "        p=p+i\n",
    "print(p)"
   ]
  },
  {
   "cell_type": "markdown",
   "metadata": {},
   "source": []
  },
  {
   "cell_type": "code",
   "execution_count": null,
   "metadata": {},
   "outputs": [],
   "source": []
  },
  {
   "cell_type": "code",
   "execution_count": null,
   "metadata": {},
   "outputs": [],
   "source": []
  }
 ],
 "metadata": {
  "kernelspec": {
   "display_name": "Python 3",
   "language": "python",
   "name": "python3"
  },
  "language_info": {
   "codemirror_mode": {
    "name": "ipython",
    "version": 3
   },
   "file_extension": ".py",
   "mimetype": "text/x-python",
   "name": "python",
   "nbconvert_exporter": "python",
   "pygments_lexer": "ipython3",
   "version": "3.7.6"
  }
 },
 "nbformat": 4,
 "nbformat_minor": 4
}
